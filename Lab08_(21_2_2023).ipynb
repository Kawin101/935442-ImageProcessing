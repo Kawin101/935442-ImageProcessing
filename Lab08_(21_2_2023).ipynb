{
  "nbformat": 4,
  "nbformat_minor": 0,
  "metadata": {
    "colab": {
      "provenance": [],
      "mount_file_id": "1m5jBRxsj5Z5fmg4QeKDFdwyPIfrwjeFB",
      "authorship_tag": "ABX9TyM9/ax/Av+Eq8za4f7fuE1c",
      "include_colab_link": true
    },
    "kernelspec": {
      "name": "python3",
      "display_name": "Python 3"
    },
    "language_info": {
      "name": "python"
    },
    "gpuClass": "standard"
  },
  "cells": [
    {
      "cell_type": "markdown",
      "metadata": {
        "id": "view-in-github",
        "colab_type": "text"
      },
      "source": [
        "<a href=\"https://colab.research.google.com/github/Kawin101/935442-ImageProcessing/blob/main/Lab08_(21_2_2023).ipynb\" target=\"_parent\"><img src=\"https://colab.research.google.com/assets/colab-badge.svg\" alt=\"Open In Colab\"/></a>"
      ]
    },
    {
      "cell_type": "markdown",
      "source": [
        "# https://www.google.com/url?q=https://colab.research.google.com/github/ultralytics/yolov5/blob/master/tutorial.ipynb&sa=D&source=editors&ust=1676956080720692&usg=AOvVaw0X2xLdSA8PkSBnSNksVMGK"
      ],
      "metadata": {
        "id": "jOaCgVM8KRGJ"
      }
    },
    {
      "cell_type": "markdown",
      "source": [
        "# Setup\n",
        "\n",
        "Clone GitHub [repository](https://github.com/ultralytics/yolov5), install [dependencies](https://github.com/ultralytics/yolov5/blob/master/requirements.txt) and check PyTorch and GPU."
      ],
      "metadata": {
        "id": "3EN2_9gm0YL3"
      }
    },
    {
      "cell_type": "code",
      "execution_count": null,
      "metadata": {
        "id": "S1F3aArHxQw5"
      },
      "outputs": [],
      "source": [
        "!git clone https://github.com/ultralytics/yolov5  # clone\n",
        "%cd yolov5\n",
        "%pip install -qr requirements.txt  # install\n",
        "\n",
        "import torch\n",
        "import utils\n",
        "display = utils.notebook_init()  # checks"
      ]
    },
    {
      "cell_type": "code",
      "source": [
        "# https://colab.research.google.com/github/sudo-ken/compress-decompress-in-Google-Drive/blob/master/Unrar_Unzip_Rar_Zip_in_GDrive.ipynb\n",
        "# !unrar x \"/content/drive/MyDrive/3.2Y2023_Second/935442_Image-Processing/data.zip\" \"/content/drive/MyDrive/3.2Y2023_Second/935442_Image-Processing\"\n",
        "\n",
        "# !unzip \"/content/drive/MyDrive/3.2Y2023_Second/935442_Image-Processing/data.zip\" -d \"/content/drive/MyDrive/3.2Y2023_Second/935442_Image-Processing\"\n",
        "!unzip \"/content/data.zip\" -d \"/content/\"\n"
      ],
      "metadata": {
        "id": "wUTI-y342Kq_"
      },
      "execution_count": null,
      "outputs": []
    },
    {
      "cell_type": "code",
      "source": [
        "# Train YOLOv5s on COCO128 for 3 epochs\n",
        "!python train.py --img 640 --batch 16 --epochs 5 --data coco128_kkulogo.yaml --weights yolov5s.pt --cache"
      ],
      "metadata": {
        "id": "UFdnHaCc7rIg"
      },
      "execution_count": null,
      "outputs": []
    },
    {
      "cell_type": "code",
      "source": [
        "!python detect.py --weights /content/best.pt --img 640 --conf 0.5 --source /content/3.jpg\n",
        "# display.Image(filename='runs/detect/exp/zidane.jpg', width=600)"
      ],
      "metadata": {
        "colab": {
          "base_uri": "https://localhost:8080/"
        },
        "id": "6AbUa1qtO4Fh",
        "outputId": "fc4ac90e-68dd-4909-8f88-d2f4be9c0531"
      },
      "execution_count": null,
      "outputs": [
        {
          "output_type": "stream",
          "name": "stdout",
          "text": [
            "\u001b[34m\u001b[1mdetect: \u001b[0mweights=['/content/best.pt'], source=/content/3.jpg, data=data/coco128.yaml, imgsz=[640, 640], conf_thres=0.5, iou_thres=0.45, max_det=1000, device=, view_img=False, save_txt=False, save_conf=False, save_crop=False, nosave=False, classes=None, agnostic_nms=False, augment=False, visualize=False, update=False, project=runs/detect, name=exp, exist_ok=False, line_thickness=3, hide_labels=False, hide_conf=False, half=False, dnn=False, vid_stride=1\n",
            "YOLOv5 🚀 v7.0-108-g4db6757 Python-3.8.10 torch-1.13.1+cu116 CPU\n",
            "\n",
            "Fusing layers... \n",
            "Model summary: 157 layers, 7012822 parameters, 0 gradients, 15.8 GFLOPs\n",
            "image 1/1 /content/3.jpg: 640x640 2 kkus, 442.5ms\n",
            "Speed: 9.4ms pre-process, 442.5ms inference, 1.3ms NMS per image at shape (1, 3, 640, 640)\n",
            "Results saved to \u001b[1mruns/detect/exp2\u001b[0m\n"
          ]
        }
      ]
    }
  ]
}