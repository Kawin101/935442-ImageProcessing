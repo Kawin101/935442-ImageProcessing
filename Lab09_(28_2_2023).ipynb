{
  "nbformat": 4,
  "nbformat_minor": 0,
  "metadata": {
    "colab": {
      "provenance": [],
      "mount_file_id": "1W8ZEdw-iOVtlP2RHvhUGkNMuzhVWM77j",
      "authorship_tag": "ABX9TyOtj6TfyHHU9H0Ozm6kEOEG",
      "include_colab_link": true
    },
    "kernelspec": {
      "name": "python3",
      "display_name": "Python 3"
    },
    "language_info": {
      "name": "python"
    }
  },
  "cells": [
    {
      "cell_type": "markdown",
      "metadata": {
        "id": "view-in-github",
        "colab_type": "text"
      },
      "source": [
        "<a href=\"https://colab.research.google.com/github/Kawin101/935442-ImageProcessing/blob/main/Lab09_(28_2_2023).ipynb\" target=\"_parent\"><img src=\"https://colab.research.google.com/assets/colab-badge.svg\" alt=\"Open In Colab\"/></a>"
      ]
    },
    {
      "cell_type": "code",
      "execution_count": null,
      "metadata": {
        "id": "PGFvqJFz2tXY"
      },
      "outputs": [],
      "source": [
        "# Image Recognition: Artificial Intelligence\n",
        "from tensorflow.keras.datasets import mnist # number of 0 to 9\n",
        "import matplotlib.pyplot as plt\n",
        "\n",
        "(X_train, y_train), (X_test, y_test) = mnist.load_data()\n",
        "# X_train = np.array(X_train, 'int16')\n",
        "plt.imshow(X_train[1000], cmap='gray')\n",
        "plt.show()\n",
        "print(X_train.shape)\n",
        "\"\"\"\n",
        "digit 0-9 \n",
        "0 = 6000\n",
        "1 = 6000\n",
        "...\n",
        "9 = 6000\n",
        "\"\"\"\n",
        "print(X_test.shape)\n"
      ]
    },
    {
      "cell_type": "code",
      "source": [
        "# For check image pixel A and B \n",
        "from numpy.lib.type_check import imag \n",
        "import cv2\n",
        "\n",
        "img1 = X_train[6]/255 # digit 1\n",
        "img2 = X_train[7]/255 # digit 3\n",
        "img3 = X_train[8]/255 # digit 1\n",
        "\n",
        "img1 = img1.astype('uint8')\n",
        "img2 = img2.astype('uint8')\n",
        "img3 = img3.astype('uint8')\n",
        "\n",
        "result1 = cv2.matchTemplate(img1, img2, cv2.TM_CCOEFF_NORMED)\n",
        "result2 = cv2.matchTemplate(img1, img3, cv2.TM_CCOEFF_NORMED)\n",
        "\n",
        "\n",
        "if result1>result2:\n",
        " print(\"X_train[6] mathch X_train[7]\")\n",
        " plt.subplot(121), plt.imshow(X_train[6], cmap=\"binary\")\n",
        " plt.subplot(122), plt.imshow(X_train[7], cmap=\"binary\")\n",
        " plt.show()\n",
        "else:\n",
        " print(\"X_train[6] mathch X_train[8]\")\n",
        " plt.subplot(121), plt.imshow(X_train[6], cmap=\"binary\")\n",
        " plt.subplot(122), plt.imshow(X_train[8], cmap=\"binary\")\n",
        " plt.show()\n",
        "\n",
        "def XmoreY(result1, result2):\n",
        "  result1 > result2\n",
        "\n"
      ],
      "metadata": {
        "colab": {
          "base_uri": "https://localhost:8080/",
          "height": 218
        },
        "id": "1gzKtGT_5Dsr",
        "outputId": "64c35823-3593-4a2b-cfa6-af63ca0a9c0c"
      },
      "execution_count": null,
      "outputs": [
        {
          "output_type": "stream",
          "name": "stdout",
          "text": [
            "X_train[6] mathch X_train[8]\n"
          ]
        },
        {
          "output_type": "display_data",
          "data": {
            "text/plain": [
              "<Figure size 432x288 with 2 Axes>"
            ],
            "image/png": "[encoded data removed]"
          },
          "metadata": {
            "needs_background": "light"
          }
        }
      ]
    },
    {
      "cell_type": "code",
      "source": [
        "from tensorflow.keras.datasets import mnist\n",
        "import matplotlib.pyplot as plt\n",
        "import cv2\n",
        "import numpy as np\n",
        "from skimage.feature import hog\n",
        "from sklearn.neural_network import MLPClassifier\n",
        "\n",
        "(X_train, y_train),(X_test, y_test) = mnist.load_data()\n",
        "hog_list = []\n",
        "for feature in X_train:\n",
        "  fd = hog(feature.reshape((28,28)), orientations=9,\n",
        "           pixels_per_cell=(14,14), cells_per_block=(1,1))\n",
        "  hog_list.append(fd)\n",
        "\n",
        "X_train_hog = np.array(hog_list, 'float64') # digit 0-9 (60000)\n",
        "\n",
        "model = MLPClassifier(activation='relu', hidden_layer_sizes=(200,200), alpha=0.3)\n",
        "model.fit(X_train_hog, y_train)\n"
      ],
      "metadata": {
        "colab": {
          "base_uri": "https://localhost:8080/"
        },
        "id": "d0CLV4jgIhHD",
        "outputId": "686cce84-39c3-4a81-b0fc-44ba25d02065"
      },
      "execution_count": null,
      "outputs": [
        {
          "output_type": "stream",
          "name": "stdout",
          "text": [
            "Downloading data from https://storage.googleapis.com/tensorflow/tf-keras-datasets/mnist.npz\n",
            "11490434/11490434 [==============================] - 0s 0us/step\n"
          ]
        }
      ]
    },
    {
      "cell_type": "code",
      "source": [
        "img = cv2.imread('5.png', 0)\n",
        "ret, binary = cv2.threshold(img,100,255,cv2.THRESH_BINARY_INV)\n",
        "binary = cv2.resize(binary,(28,28),interpolation=cv2.INTER_AREA)\n",
        "binary_hog = hog(binary, orientations=9, pixels_per_cell=(14,14), cells_per_block=(1,1))\n",
        "predict = model.predict([binary_hog])\n",
        "plt.imshow(img,cmap='gray')\n",
        "plt.show()\n",
        "print(predict[0])"
      ],
      "metadata": {
        "colab": {
          "base_uri": "https://localhost:8080/",
          "height": 267
        },
        "id": "580MOqBPPPPi",
        "outputId": "33e8e861-716d-4ab2-fc05-2a9990bf28dc"
      },
      "execution_count": null,
      "outputs": [
        {
          "output_type": "display_data",
          "data": {
            "text/plain": [
              "<Figure size 432x288 with 1 Axes>"
            ],
            "image/png": "[encoded data removed]"
          },
          "metadata": {
            "needs_background": "light"
          }
        },
        {
          "output_type": "stream",
          "name": "stdout",
          "text": [
            "0\n"
          ]
        }
      ]
    }
  ]
}