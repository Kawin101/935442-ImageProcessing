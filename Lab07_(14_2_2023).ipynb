{
  "nbformat": 4,
  "nbformat_minor": 0,
  "metadata": {
    "colab": {
      "provenance": [],
      "mount_file_id": "18G33DC85AT1F1WNYRzkwsuFgt0zvlE6E",
      "authorship_tag": "ABX9TyPMD++eJ3AkdG2VJBxvWxYh",
      "include_colab_link": true
    },
    "kernelspec": {
      "name": "python3",
      "display_name": "Python 3"
    },
    "language_info": {
      "name": "python"
    },
    "accelerator": "GPU",
    "gpuClass": "standard"
  },
  "cells": [
    {
      "cell_type": "markdown",
      "metadata": {
        "id": "view-in-github",
        "colab_type": "text"
      },
      "source": [
        "<a href=\"https://colab.research.google.com/github/Kawin101/935442-ImageProcessing/blob/main/Lab07_(14_2_2023).ipynb\" target=\"_parent\"><img src=\"https://colab.research.google.com/assets/colab-badge.svg\" alt=\"Open In Colab\"/></a>"
      ]
    },
    {
      "cell_type": "markdown",
      "source": [
        "# 4.2 Object Detection_AI"
      ],
      "metadata": {
        "id": "HJOJ8p7u0xX6"
      }
    },
    {
      "cell_type": "markdown",
      "source": [
        "*   **การตรวจจับใบหน้าด้วย DL**\n"
      ],
      "metadata": {
        "id": "GuUycS3q0nmq"
      }
    },
    {
      "cell_type": "code",
      "execution_count": 1,
      "metadata": {
        "id": "vSg_NJCuxO7B",
        "colab": {
          "base_uri": "https://localhost:8080/",
          "height": 391
        },
        "outputId": "c96baa62-88e3-4fee-e3c2-0fd65197c824"
      },
      "outputs": [
        {
          "output_type": "error",
          "ename": "ModuleNotFoundError",
          "evalue": "ignored",
          "traceback": [
            "\u001b[0;31m---------------------------------------------------------------------------\u001b[0m",
            "\u001b[0;31mModuleNotFoundError\u001b[0m                       Traceback (most recent call last)",
            "\u001b[0;32m<ipython-input-1-c07a90128c0a>\u001b[0m in \u001b[0;36m<module>\u001b[0;34m\u001b[0m\n\u001b[1;32m      2\u001b[0m \u001b[0;32mimport\u001b[0m \u001b[0mcv2\u001b[0m\u001b[0;34m\u001b[0m\u001b[0;34m\u001b[0m\u001b[0m\n\u001b[1;32m      3\u001b[0m \u001b[0;32mimport\u001b[0m \u001b[0mmatplotlib\u001b[0m\u001b[0;34m.\u001b[0m\u001b[0mpyplot\u001b[0m \u001b[0;32mas\u001b[0m \u001b[0mplt\u001b[0m\u001b[0;34m\u001b[0m\u001b[0;34m\u001b[0m\u001b[0m\n\u001b[0;32m----> 4\u001b[0;31m \u001b[0;32mfrom\u001b[0m \u001b[0mmtcnn\u001b[0m\u001b[0;34m.\u001b[0m\u001b[0mmtcnn\u001b[0m \u001b[0;32mimport\u001b[0m \u001b[0mMTCNN\u001b[0m\u001b[0;34m\u001b[0m\u001b[0;34m\u001b[0m\u001b[0m\n\u001b[0m\u001b[1;32m      5\u001b[0m \u001b[0;34m\u001b[0m\u001b[0m\n\u001b[1;32m      6\u001b[0m \u001b[0;31m# img = cv2.imread('/content/drive/MyDrive/รูปภาพและวิดีโอ/kawinphop-2019.jpg') # BGR\u001b[0m\u001b[0;34m\u001b[0m\u001b[0;34m\u001b[0m\u001b[0m\n",
            "\u001b[0;31mModuleNotFoundError\u001b[0m: No module named 'mtcnn'",
            "",
            "\u001b[0;31m---------------------------------------------------------------------------\u001b[0;32m\nNOTE: If your import is failing due to a missing package, you can\nmanually install dependencies using either !pip or !apt.\n\nTo view examples of installing some common dependencies, click the\n\"Open Examples\" button below.\n\u001b[0;31m---------------------------------------------------------------------------\u001b[0m\n"
          ],
          "errorDetails": {
            "actions": [
              {
                "action": "open_url",
                "actionText": "Open Examples",
                "url": "/notebooks/snippets/importing_libraries.ipynb"
              }
            ]
          }
        }
      ],
      "source": [
        "# เทคนิคแรกๆ ที่ใช้ในการตรวจจับใบหน้า\n",
        "import cv2\n",
        "import matplotlib.pyplot as plt\n",
        "from mtcnn.mtcnn import MTCNN\n",
        "\n",
        "# img = cv2.imread('/content/drive/MyDrive/รูปภาพและวิดีโอ/kawinphop-2019.jpg') # BGR\n",
        "# img = cv2.imread('/content/drive/MyDrive/รูปภาพและวิดีโอ/studentphoto.jfif') # BGR\n",
        "img = cv2.imread('/content/drive/MyDrive/3.2 ปี 2566 (ภาคปลาย)/935306_AI/Image/Traditional-Family-Life.jpg') # BGR\n",
        "imgRGB = cv2.cvtColor(img, cv2.COLOR_BGR2RGB) # แปลงเป็น RGB แล้วเรียบร้อย\n",
        "\n",
        "faceDectector = MTCNN() # เรียกใช้ฟังก์ชัน MTCNN()\n",
        "faces = faceDectector.detect_faces(imgRGB) # กำหนดภาพที่นำเข้าเป็น ภาพแบบที่แปลงเป็น RGB เสร็จแล้ว\n",
        "\n",
        "# ตัวแปลง face สามารถเปลี่ยนชื่อได้\n",
        "for face in faces:\n",
        "  (x, y, w, h) = face['box'] # list [array]\n",
        "  # w กว้าง, h สูง, x y จุดเริ่มต้น, ทำการตีกรอบ รอบใบหน้า เป็นสีแดง RGB(r,g,b), 10 เป็นขนาดเส้นที่ตีกรอบ\n",
        "  cv2.rectangle(imgRGB,(x,y),(x+w,y+h),(255,0,0),4)\n",
        "\n",
        "plt.imshow(imgRGB) # กำหนดแสดงผล\n",
        "plt.show"
      ]
    },
    {
      "cell_type": "code",
      "source": [
        "!pip install mtcnn"
      ],
      "metadata": {
        "id": "ulm1x9hWyVdB"
      },
      "execution_count": null,
      "outputs": []
    },
    {
      "cell_type": "code",
      "source": [
        "# For programming outside Colab\n",
        "!pip install tensorflow"
      ],
      "metadata": {
        "id": "SuX3TL_ey44Z"
      },
      "execution_count": null,
      "outputs": []
    },
    {
      "cell_type": "code",
      "source": [
        "!git clone https://github.com/ultralytics/yolov3"
      ],
      "metadata": {
        "colab": {
          "base_uri": "https://localhost:8080/"
        },
        "id": "8PywDxMPy7kA",
        "outputId": "e3f569e3-9550-4f14-b074-f569632fcdd9"
      },
      "execution_count": null,
      "outputs": [
        {
          "output_type": "stream",
          "name": "stdout",
          "text": [
            "Cloning into 'yolov3'...\n",
            "remote: Enumerating objects: 10251, done.\u001b[K\n",
            "remote: Counting objects: 100% (170/170), done.\u001b[K\n",
            "remote: Compressing objects: 100% (128/128), done.\u001b[K\n",
            "remote: Total 10251 (delta 49), reused 129 (delta 41), pack-reused 10081\u001b[K\n",
            "Receiving objects: 100% (10251/10251), 9.67 MiB | 25.26 MiB/s, done.\n",
            "Resolving deltas: 100% (6850/6850), done.\n"
          ]
        }
      ]
    },
    {
      "cell_type": "code",
      "source": [
        "%cd yolov3"
      ],
      "metadata": {
        "colab": {
          "base_uri": "https://localhost:8080/"
        },
        "id": "9Wm7-YX57pW5",
        "outputId": "b979e227-26b0-4cfe-c41c-f9b51780cb86"
      },
      "execution_count": null,
      "outputs": [
        {
          "output_type": "stream",
          "name": "stdout",
          "text": [
            "/content/yolov3/yolov3\n"
          ]
        }
      ]
    },
    {
      "cell_type": "code",
      "source": [
        "%pip install -qr requirements.txt # install"
      ],
      "metadata": {
        "id": "fw_pHkaf7q2S"
      },
      "execution_count": null,
      "outputs": []
    },
    {
      "cell_type": "markdown",
      "source": [
        "*   **Yolo family (You Only Look One)**\n",
        "\n"
      ],
      "metadata": {
        "id": "nbk7sj7-_tVr"
      }
    },
    {
      "cell_type": "code",
      "source": [
        "# Yolo family (You Only Look One)\n",
        "import torch\n",
        "from yolov3 import utils\n",
        "display = utils.notebook_init() # checks\n",
        "# !python detect.py --weights yolov3.pt --img 640 --conf 0.25 --source 'image'\n",
        "!python detect.py --weights yolov3.pt --img 640 --conf 0.25 --source '/content/drive/MyDrive/3.2 ปี 2566 (ภาคปลาย)/935306_AI/Image/AAUS02.jpg'"
      ],
      "metadata": {
        "id": "2RT1CnUl99Gh"
      },
      "execution_count": null,
      "outputs": []
    },
    {
      "cell_type": "code",
      "source": [
        "!git clone https://github.com/ultralytics/yolov5"
      ],
      "metadata": {
        "colab": {
          "base_uri": "https://localhost:8080/"
        },
        "id": "udOzrU3OJ_m0",
        "outputId": "9a9252f9-199c-4687-9850-6047711f7dd5"
      },
      "execution_count": null,
      "outputs": [
        {
          "output_type": "stream",
          "name": "stdout",
          "text": [
            "Cloning into 'yolov5'...\n",
            "remote: Enumerating objects: 15143, done.\u001b[K\n",
            "remote: Counting objects: 100% (5/5), done.\u001b[K\n",
            "remote: Compressing objects: 100% (5/5), done.\u001b[K\n",
            "remote: Total 15143 (delta 0), reused 3 (delta 0), pack-reused 15138\u001b[K\n",
            "Receiving objects: 100% (15143/15143), 14.13 MiB | 30.85 MiB/s, done.\n",
            "Resolving deltas: 100% (10384/10384), done.\n"
          ]
        }
      ]
    },
    {
      "cell_type": "code",
      "source": [
        "%pwd"
      ],
      "metadata": {
        "id": "Io3WFM1DNIjL",
        "outputId": "e651e8d0-e61f-441a-f9d9-644a83169b8e",
        "colab": {
          "base_uri": "https://localhost:8080/",
          "height": 36
        }
      },
      "execution_count": null,
      "outputs": [
        {
          "output_type": "execute_result",
          "data": {
            "text/plain": [
              "'/content'"
            ],
            "application/vnd.google.colaboratory.intrinsic+json": {
              "type": "string"
            }
          },
          "metadata": {},
          "execution_count": 38
        }
      ]
    }
  ]
}