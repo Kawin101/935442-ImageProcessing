{
  "nbformat": 4,
  "nbformat_minor": 0,
  "metadata": {
    "colab": {
      "provenance": [],
      "include_colab_link": true
    },
    "kernelspec": {
      "name": "python3",
      "display_name": "Python 3"
    },
    "language_info": {
      "name": "python"
    }
  },
  "cells": [
    {
      "cell_type": "markdown",
      "metadata": {
        "id": "view-in-github",
        "colab_type": "text"
      },
      "source": [
        "<a href=\"https://colab.research.google.com/github/Kawin101/935442-ImageProcessing/blob/main/Lab01_(Basic_Python).ipynb\" target=\"_parent\"><img src=\"https://colab.research.google.com/assets/colab-badge.svg\" alt=\"Open In Colab\"/></a>"
      ]
    },
    {
      "cell_type": "markdown",
      "metadata": {
        "id": "zbl3Z7IH3y4g"
      },
      "source": [
        "# **** Basic python programming series ******\n",
        "## 1.Basic python programming\n",
        "## 2.Basic python for data science\n",
        "## 3.Basic python for image processing"
      ]
    },
    {
      "cell_type": "markdown",
      "metadata": {
        "id": "Z8Lkkr8s4tRE"
      },
      "source": [
        "# 1. Basic python programming\n",
        "*** ข้อมูลจาก BOTNOI computer vision training***"
      ]
    },
    {
      "cell_type": "markdown",
      "metadata": {
        "id": "pKv8ZS7L5NZu"
      },
      "source": [
        "*   **Data type (ประเภทของข้อมูล)**"
      ]
    },
    {
      "cell_type": "code",
      "metadata": {
        "id": "wt-yfy6B3iv3",
        "colab": {
          "base_uri": "https://localhost:8080/"
        },
        "outputId": "d2833951-1a30-44c5-f02b-387311c9aaa9"
      },
      "source": [
        "print(\"hello world\")"
      ],
      "execution_count": null,
      "outputs": [
        {
          "output_type": "stream",
          "text": [
            "hello world\n"
          ],
          "name": "stdout"
        }
      ]
    },
    {
      "cell_type": "code",
      "metadata": {
        "colab": {
          "base_uri": "https://localhost:8080/"
        },
        "id": "qDqysxwlLYJF",
        "outputId": "abd7f443-8c15-44ba-bd57-3229df559a5b"
      },
      "source": [
        "print(\"I love you\")"
      ],
      "execution_count": null,
      "outputs": [
        {
          "output_type": "stream",
          "text": [
            "I love you\n"
          ],
          "name": "stdout"
        }
      ]
    },
    {
      "cell_type": "code",
      "metadata": {
        "id": "p3jiQhNF5iqk",
        "colab": {
          "base_uri": "https://localhost:8080/",
          "height": 35
        },
        "outputId": "d0bf8c7d-f87c-4c6c-99bf-bc0964bfa722"
      },
      "source": [
        "#string มี ' หรือ \" ปิดหัวท้าย\n",
        "'hello world'"
      ],
      "execution_count": null,
      "outputs": [
        {
          "output_type": "execute_result",
          "data": {
            "application/vnd.google.colaboratory.intrinsic+json": {
              "type": "string"
            },
            "text/plain": [
              "'hello world'"
            ]
          },
          "metadata": {
            "tags": []
          },
          "execution_count": 5
        }
      ]
    },
    {
      "cell_type": "code",
      "metadata": {
        "colab": {
          "base_uri": "https://localhost:8080/",
          "height": 35
        },
        "id": "dlk9jEF-MLy7",
        "outputId": "69361ad9-6bb1-43e6-deaa-716a58b185b4"
      },
      "source": [
        "\"I love you\""
      ],
      "execution_count": null,
      "outputs": [
        {
          "output_type": "execute_result",
          "data": {
            "application/vnd.google.colaboratory.intrinsic+json": {
              "type": "string"
            },
            "text/plain": [
              "'I love you'"
            ]
          },
          "metadata": {
            "tags": []
          },
          "execution_count": 6
        }
      ]
    },
    {
      "cell_type": "code",
      "metadata": {
        "id": "Nw3pC9LL5rkJ",
        "colab": {
          "base_uri": "https://localhost:8080/"
        },
        "outputId": "1d5e9660-f708-4aae-a8ea-e7b467161626"
      },
      "source": [
        "#ตัวเลขไม่มี ' หรือ \" ปิดหัวท้าย\n",
        "12000"
      ],
      "execution_count": null,
      "outputs": [
        {
          "output_type": "execute_result",
          "data": {
            "text/plain": [
              "12000"
            ]
          },
          "metadata": {
            "tags": []
          },
          "execution_count": 7
        }
      ]
    },
    {
      "cell_type": "code",
      "metadata": {
        "colab": {
          "base_uri": "https://localhost:8080/"
        },
        "id": "HOabNCjSMatF",
        "outputId": "903d8801-1c53-4eb7-d92e-1e3e6818cc21"
      },
      "source": [
        "5000\n"
      ],
      "execution_count": null,
      "outputs": [
        {
          "output_type": "execute_result",
          "data": {
            "text/plain": [
              "5000"
            ]
          },
          "metadata": {
            "tags": []
          },
          "execution_count": 8
        }
      ]
    },
    {
      "cell_type": "code",
      "metadata": {
        "colab": {
          "base_uri": "https://localhost:8080/",
          "height": 35
        },
        "id": "6gzdjoVxMd32",
        "outputId": "7f87ccf8-651d-4ae7-893d-3fb1159eb51f"
      },
      "source": [
        "number = '5000'\n",
        "number"
      ],
      "execution_count": null,
      "outputs": [
        {
          "output_type": "execute_result",
          "data": {
            "application/vnd.google.colaboratory.intrinsic+json": {
              "type": "string"
            },
            "text/plain": [
              "'5000'"
            ]
          },
          "metadata": {
            "tags": []
          },
          "execution_count": 11
        }
      ]
    },
    {
      "cell_type": "code",
      "metadata": {
        "id": "iFYsSiVK6QHs",
        "colab": {
          "base_uri": "https://localhost:8080/",
          "height": 35
        },
        "outputId": "7288fccd-7cb9-420e-ab5e-c9dad91e07cc"
      },
      "source": [
        "a=[1,2,3,'world',5,6,7,8,'hello',10]\n",
        "a[8] +' '+ a[3]"
      ],
      "execution_count": null,
      "outputs": [
        {
          "output_type": "execute_result",
          "data": {
            "application/vnd.google.colaboratory.intrinsic+json": {
              "type": "string"
            },
            "text/plain": [
              "'hello world'"
            ]
          },
          "metadata": {
            "tags": []
          },
          "execution_count": 19
        }
      ]
    },
    {
      "cell_type": "markdown",
      "metadata": {
        "id": "t0_1PX6nQN8A"
      },
      "source": [
        "รบกวนสอบถามค่ะ ถ้าตั้ง array เป็น\n",
        "a = [1,'I',2,'have','only','baht']\n",
        "แล้วต้องการให้แสดงคำว่า I have only 1 baht \n",
        "ต้องใส่โค๊ดยังไงบ้างค่ะ ลองใส่แบบนี้ \n",
        "a[1] + a[3] + a[4] + a[0] + a[5]\n",
        "แล้ว error"
      ]
    },
    {
      "cell_type": "code",
      "metadata": {
        "colab": {
          "base_uri": "https://localhost:8080/",
          "height": 35
        },
        "id": "lpBz5SYAP8Py",
        "outputId": "08854246-60ad-4765-e759-21d1810f84fc"
      },
      "source": [
        "a = [1,'I',2,'have','only','baht']\n",
        "a[1] + a[3] + a[4] + str(a[0]) + a[5]"
      ],
      "execution_count": null,
      "outputs": [
        {
          "output_type": "execute_result",
          "data": {
            "application/vnd.google.colaboratory.intrinsic+json": {
              "type": "string"
            },
            "text/plain": [
              "'Ihaveonly1baht'"
            ]
          },
          "metadata": {
            "tags": []
          },
          "execution_count": 25
        }
      ]
    },
    {
      "cell_type": "code",
      "metadata": {
        "id": "QS0xrtZf6Tpa",
        "colab": {
          "base_uri": "https://localhost:8080/"
        },
        "outputId": "00f9bb32-f273-4a1d-81df-0acead42b453"
      },
      "source": [
        "x = 2\n",
        "y = 1\n",
        "x - y"
      ],
      "execution_count": null,
      "outputs": [
        {
          "output_type": "execute_result",
          "data": {
            "text/plain": [
              "1"
            ]
          },
          "metadata": {
            "tags": []
          },
          "execution_count": 29
        }
      ]
    },
    {
      "cell_type": "code",
      "metadata": {
        "id": "reGiEqyX6W48",
        "colab": {
          "base_uri": "https://localhost:8080/"
        },
        "outputId": "38434dab-82d5-449f-9b6e-14128ff48c15"
      },
      "source": [
        "a = [1,2,3,4,5,6,7]\n",
        "a"
      ],
      "execution_count": null,
      "outputs": [
        {
          "output_type": "execute_result",
          "data": {
            "text/plain": [
              "[1, 2, 3, 4, 5, 6, 7]"
            ]
          },
          "metadata": {
            "tags": []
          },
          "execution_count": 30
        }
      ]
    },
    {
      "cell_type": "code",
      "metadata": {
        "id": "nocbH6Uy6Zzf",
        "colab": {
          "base_uri": "https://localhost:8080/"
        },
        "outputId": "9869df36-bba0-47ec-9c59-63dcaed02cc5"
      },
      "source": [
        "a[5]+a[1]"
      ],
      "execution_count": null,
      "outputs": [
        {
          "output_type": "execute_result",
          "data": {
            "text/plain": [
              "8"
            ]
          },
          "metadata": {
            "tags": []
          },
          "execution_count": 32
        }
      ]
    },
    {
      "cell_type": "code",
      "metadata": {
        "id": "P-ON1Cel6cTS"
      },
      "source": [
        "a = ['ชื่อ','เอ','ผม','ครับ','สวัสดี']"
      ],
      "execution_count": null,
      "outputs": []
    },
    {
      "cell_type": "code",
      "metadata": {
        "colab": {
          "base_uri": "https://localhost:8080/"
        },
        "id": "WdhnOs8IZMcN",
        "outputId": "c7f5f4ae-24f4-44b7-cbc8-df63d69cab92"
      },
      "source": [
        "print(a[-1]+a[-0]+a[-3]+a[-4]+a[-2])"
      ],
      "execution_count": null,
      "outputs": [
        {
          "output_type": "stream",
          "text": [
            "สวัสดีชื่อผมเอครับ\n"
          ],
          "name": "stdout"
        }
      ]
    },
    {
      "cell_type": "code",
      "metadata": {
        "id": "ZNeiCC1X7UH0",
        "colab": {
          "base_uri": "https://localhost:8080/",
          "height": 35
        },
        "outputId": "5d87f834-6500-48b5-f5ca-071d631a80da"
      },
      "source": [
        "a[-2]"
      ],
      "execution_count": null,
      "outputs": [
        {
          "output_type": "execute_result",
          "data": {
            "application/vnd.google.colaboratory.intrinsic+json": {
              "type": "string"
            },
            "text/plain": [
              "'ครับ'"
            ]
          },
          "metadata": {
            "tags": []
          },
          "execution_count": 35
        }
      ]
    },
    {
      "cell_type": "code",
      "metadata": {
        "colab": {
          "base_uri": "https://localhost:8080/"
        },
        "id": "9Rvv8VTh7Wkb",
        "outputId": "3420cbfd-b276-4f82-e0e4-ce14c1587c32"
      },
      "source": [
        "print(a[4]+a[3]+a[2]+a[0]+a[1])"
      ],
      "execution_count": null,
      "outputs": [
        {
          "output_type": "stream",
          "text": [
            "สวัสดีครับผมชื่อเอ\n"
          ],
          "name": "stdout"
        }
      ]
    },
    {
      "cell_type": "code",
      "metadata": {
        "colab": {
          "base_uri": "https://localhost:8080/"
        },
        "id": "obQbL9aNVu78",
        "outputId": "20e63943-fd67-4fb9-88c3-9588e36cd9a0"
      },
      "source": [
        "print(a[-1]+a[-5]+a[1]+a[-2]+a[2])"
      ],
      "execution_count": null,
      "outputs": [
        {
          "output_type": "stream",
          "text": [
            "สวัสดีชื่อเอครับผม\n"
          ],
          "name": "stdout"
        }
      ]
    },
    {
      "cell_type": "markdown",
      "metadata": {
        "id": "7QzrGGAW8lL7"
      },
      "source": [
        "\n",
        "*   **Expression (ตรรกะ เปรียบเทียบ)**\n"
      ]
    },
    {
      "cell_type": "code",
      "metadata": {
        "id": "C7nquG_h8X_t",
        "colab": {
          "base_uri": "https://localhost:8080/"
        },
        "outputId": "9c1688ed-b32c-43a0-f413-411ac80b381c"
      },
      "source": [
        "1>=2"
      ],
      "execution_count": null,
      "outputs": [
        {
          "output_type": "execute_result",
          "data": {
            "text/plain": [
              "False"
            ]
          },
          "metadata": {
            "tags": []
          },
          "execution_count": 42
        }
      ]
    },
    {
      "cell_type": "code",
      "metadata": {
        "id": "MW4OulxM897q",
        "colab": {
          "base_uri": "https://localhost:8080/"
        },
        "outputId": "e7495535-3998-497f-a418-1bb28c1fe8e8"
      },
      "source": [
        "a=3\n",
        "a"
      ],
      "execution_count": null,
      "outputs": [
        {
          "output_type": "execute_result",
          "data": {
            "text/plain": [
              "3"
            ]
          },
          "metadata": {
            "tags": []
          },
          "execution_count": 44
        }
      ]
    },
    {
      "cell_type": "code",
      "metadata": {
        "id": "ksW-sn7x9Dlr",
        "colab": {
          "base_uri": "https://localhost:8080/"
        },
        "outputId": "f816c78c-d299-40e7-93cf-a6ae78ff8d31"
      },
      "source": [
        "a==4"
      ],
      "execution_count": null,
      "outputs": [
        {
          "output_type": "execute_result",
          "data": {
            "text/plain": [
              "False"
            ]
          },
          "metadata": {
            "tags": []
          },
          "execution_count": 46
        }
      ]
    },
    {
      "cell_type": "code",
      "metadata": {
        "colab": {
          "base_uri": "https://localhost:8080/"
        },
        "id": "n5a-lNGk9E7q",
        "outputId": "e3015bdf-acc2-4951-ac95-be6938b8c208"
      },
      "source": [
        "a!=4"
      ],
      "execution_count": null,
      "outputs": [
        {
          "output_type": "execute_result",
          "data": {
            "text/plain": [
              "True"
            ]
          },
          "metadata": {
            "tags": []
          },
          "execution_count": 48
        }
      ]
    },
    {
      "cell_type": "code",
      "metadata": {
        "id": "lrP297Fq9S30",
        "colab": {
          "base_uri": "https://localhost:8080/"
        },
        "outputId": "0716d7c4-3ac9-4805-fc37-21a6b641c2f2"
      },
      "source": [
        "a>5 and a < 5 # or and"
      ],
      "execution_count": null,
      "outputs": [
        {
          "output_type": "execute_result",
          "data": {
            "text/plain": [
              "False"
            ]
          },
          "metadata": {
            "tags": []
          },
          "execution_count": 52
        }
      ]
    },
    {
      "cell_type": "code",
      "metadata": {
        "id": "1-ipQOzL9UiD"
      },
      "source": [
        "a=['a','b','c']"
      ],
      "execution_count": null,
      "outputs": []
    },
    {
      "cell_type": "code",
      "metadata": {
        "id": "pi0MUeCP9YWj",
        "colab": {
          "base_uri": "https://localhost:8080/"
        },
        "outputId": "92600742-0172-48b3-90d0-6f575e556f2f"
      },
      "source": [
        "'d' in a"
      ],
      "execution_count": null,
      "outputs": [
        {
          "output_type": "execute_result",
          "data": {
            "text/plain": [
              "False"
            ]
          },
          "metadata": {
            "tags": []
          },
          "execution_count": 55
        }
      ]
    },
    {
      "cell_type": "code",
      "metadata": {
        "id": "gmCSXC3jYYhd"
      },
      "source": [
        "b = ['ชื่อ','เอ','ผม','ครับ','สวัสดี']"
      ],
      "execution_count": null,
      "outputs": []
    },
    {
      "cell_type": "code",
      "metadata": {
        "colab": {
          "base_uri": "https://localhost:8080/"
        },
        "id": "H77_L0doYbrR",
        "outputId": "41ca768a-9c17-4843-895e-08ba3b96f09c"
      },
      "source": [
        "'สามนิ้ว' in b"
      ],
      "execution_count": null,
      "outputs": [
        {
          "output_type": "execute_result",
          "data": {
            "text/plain": [
              "False"
            ]
          },
          "metadata": {
            "tags": []
          },
          "execution_count": 59
        }
      ]
    },
    {
      "cell_type": "code",
      "metadata": {
        "id": "ye1TFJK09fCr",
        "colab": {
          "base_uri": "https://localhost:8080/"
        },
        "outputId": "913cbc6c-d4d9-4274-8cd6-eb2b94e56049"
      },
      "source": [
        "a='hi5'\n",
        "b='hi'\n",
        "a==b"
      ],
      "execution_count": null,
      "outputs": [
        {
          "output_type": "execute_result",
          "data": {
            "text/plain": [
              "False"
            ]
          },
          "metadata": {
            "tags": []
          },
          "execution_count": 61
        }
      ]
    },
    {
      "cell_type": "markdown",
      "metadata": {
        "id": "BL6OezSN942m"
      },
      "source": [
        "*   **Condition (เงื่อนไข การเปรียบเทียบ)**\n"
      ]
    },
    {
      "cell_type": "code",
      "metadata": {
        "id": "Khu1s7D39_s0",
        "colab": {
          "base_uri": "https://localhost:8080/"
        },
        "outputId": "2f023b4f-0b4b-490c-b967-3de30ad3a1fc"
      },
      "source": [
        "a=int(input())\n",
        "b=int(input())\n",
        "if a<b:\n",
        "  print('hello')\n",
        "elif a>b:\n",
        "  print('world')\n",
        "else:\n",
        "  print('!!!')"
      ],
      "execution_count": null,
      "outputs": [
        {
          "output_type": "stream",
          "text": [
            "25\n",
            "10\n",
            "world\n"
          ],
          "name": "stdout"
        }
      ]
    },
    {
      "cell_type": "code",
      "metadata": {
        "colab": {
          "base_uri": "https://localhost:8080/"
        },
        "id": "uYjexDkscgKk",
        "outputId": "55bfdd70-97cf-4d67-8625-80422275f586"
      },
      "source": [
        "a=int(input())\n",
        "b=int(input())\n",
        "if a<b:\n",
        "  print(b/a)\n",
        "elif a>b:\n",
        "  print(a/b)\n",
        "else:\n",
        "  print('a=b')"
      ],
      "execution_count": null,
      "outputs": [
        {
          "output_type": "stream",
          "text": [
            "2\n",
            "2\n",
            "a=b\n"
          ],
          "name": "stdout"
        }
      ]
    },
    {
      "cell_type": "code",
      "metadata": {
        "colab": {
          "base_uri": "https://localhost:8080/"
        },
        "id": "eKv-Ij7sbvNC",
        "outputId": "246d80b4-63a2-4590-bd15-98de0bf88644"
      },
      "source": [
        "Pure=0\n",
        "Manow=0\n",
        "if Pure>Manow:\n",
        "  print('very good')\n",
        "elif Pure<Manow:\n",
        "  print('impossible')\n",
        "else:\n",
        "  print('Both of them stupid')"
      ],
      "execution_count": null,
      "outputs": [
        {
          "output_type": "stream",
          "text": [
            "Both of them stupid\n"
          ],
          "name": "stdout"
        }
      ]
    },
    {
      "cell_type": "code",
      "metadata": {
        "colab": {
          "base_uri": "https://localhost:8080/"
        },
        "id": "FXa5cEVVbAFb",
        "outputId": "eae39d6a-434f-4f60-dcaf-efacb35f45c3"
      },
      "source": [
        "j=10\n",
        "h=12\n",
        "if j<h:\n",
        "  print('I am smaller')\n",
        "elif j>h:\n",
        "  print('I am bigger')\n",
        "else:\n",
        "  print('Same')"
      ],
      "execution_count": null,
      "outputs": [
        {
          "output_type": "stream",
          "text": [
            "I am smaller\n"
          ],
          "name": "stdout"
        }
      ]
    },
    {
      "cell_type": "code",
      "metadata": {
        "id": "7CQIXmPe-Dau"
      },
      "source": [
        "def calculategrade(score):\n",
        "  if score >= 80:\n",
        "    print('grade A')\n",
        "  elif score >= 70:\n",
        "    print('grade B')\n",
        "  elif score >=60:\n",
        "    print('grade C')\n",
        "  elif score >=50:\n",
        "    print('grade D')\n",
        "  else:\n",
        "    print('grade f')"
      ],
      "execution_count": null,
      "outputs": []
    },
    {
      "cell_type": "code",
      "metadata": {
        "id": "Fy9pOREu-U_i"
      },
      "source": [
        "calculategrade(67)"
      ],
      "execution_count": null,
      "outputs": []
    },
    {
      "cell_type": "markdown",
      "metadata": {
        "id": "CrGhNpHR-0_V"
      },
      "source": [
        "*   Loop (การทำซ้ำ)\n"
      ]
    },
    {
      "cell_type": "code",
      "metadata": {
        "id": "JpG6oAtq_Xx7"
      },
      "source": [
        "list(range(10))"
      ],
      "execution_count": null,
      "outputs": []
    },
    {
      "cell_type": "code",
      "metadata": {
        "id": "57390XYi_eLa"
      },
      "source": [
        "for j in list(range(300)):\n",
        "  print('My birthday is 28')"
      ],
      "execution_count": null,
      "outputs": []
    },
    {
      "cell_type": "code",
      "metadata": {
        "id": "XeOPLIq5_sk0"
      },
      "source": [],
      "execution_count": null,
      "outputs": []
    },
    {
      "cell_type": "code",
      "metadata": {
        "id": "NwbV8ju12rQG"
      },
      "source": [
        "for i in list(range(300)):\n",
        "  print('i love you ')"
      ],
      "execution_count": null,
      "outputs": []
    },
    {
      "cell_type": "code",
      "metadata": {
        "id": "Kvuj6vtQ_95L",
        "colab": {
          "base_uri": "https://localhost:8080/"
        },
        "outputId": "64e8d8a6-87a6-4798-ae48-4e36887f795a"
      },
      "source": [
        "x = 0\n",
        "y = 10\n",
        "while x < y:\n",
        "  print(x)\n",
        "  x = x + 1"
      ],
      "execution_count": null,
      "outputs": [
        {
          "output_type": "stream",
          "text": [
            "0\n",
            "1\n",
            "2\n",
            "3\n",
            "4\n",
            "5\n",
            "6\n",
            "7\n",
            "8\n",
            "9\n"
          ],
          "name": "stdout"
        }
      ]
    },
    {
      "cell_type": "code",
      "metadata": {
        "id": "Xg0A-LfUACBk",
        "colab": {
          "base_uri": "https://localhost:8080/"
        },
        "outputId": "955937a8-f03f-4096-fcde-f0596f14f93a"
      },
      "source": [
        "n = [53,1,2,67,543,3,8,-9,43,12]\n",
        "minnum = 10000\n",
        "for i in n:\n",
        "  if i < minnum:\n",
        "    minnum = i\n",
        "    print(minnum)"
      ],
      "execution_count": null,
      "outputs": [
        {
          "output_type": "stream",
          "text": [
            "53\n",
            "1\n",
            "-9\n"
          ],
          "name": "stdout"
        }
      ]
    },
    {
      "cell_type": "markdown",
      "metadata": {
        "id": "poFJ4lrTBSkt"
      },
      "source": [
        "*   Function (ฟังก์ชัน โปรแกรมย่อย)"
      ]
    },
    {
      "cell_type": "code",
      "metadata": {
        "id": "7zSR5w8fAhrE"
      },
      "source": [
        "numberToGuess = 24\n",
        "def guessmynum():\n",
        "  print('ทายเลขอะไรดีครับ')\n",
        "  myguess = int(input())\n",
        "  if myguess < numberToGuess:\n",
        "    print('ผิดครับ ทายน้อยเกินไป')\n",
        "    return guessmynum()\n",
        "  elif myguess > numberToGuess:\n",
        "    print('ผิดครับ ทายมากเกินไป')\n",
        "    return guessmynum()\n",
        "  else:\n",
        "    print('ถูกต้องนะครับ')\n",
        "    return 'finish'"
      ],
      "execution_count": null,
      "outputs": []
    },
    {
      "cell_type": "code",
      "metadata": {
        "id": "NV2i1oCJBh1d",
        "colab": {
          "base_uri": "https://localhost:8080/",
          "height": 86
        },
        "outputId": "e28a5176-878a-4793-8d0c-003b35c2f6bb"
      },
      "source": [
        "guessmynum()"
      ],
      "execution_count": null,
      "outputs": [
        {
          "output_type": "stream",
          "text": [
            "ทายเลขอะไรดีครับ\n",
            "24\n",
            "ถูกต้องนะครับ\n"
          ],
          "name": "stdout"
        },
        {
          "output_type": "execute_result",
          "data": {
            "application/vnd.google.colaboratory.intrinsic+json": {
              "type": "string"
            },
            "text/plain": [
              "'finish'"
            ]
          },
          "metadata": {
            "tags": []
          },
          "execution_count": 27
        }
      ]
    },
    {
      "cell_type": "code",
      "metadata": {
        "id": "JtxHe3g5pd7s"
      },
      "source": [
        "def num(a,b):\n",
        "  r = a+b\n",
        "  return r"
      ],
      "execution_count": null,
      "outputs": []
    },
    {
      "cell_type": "code",
      "metadata": {
        "id": "vUkXAXGlp6Gw"
      },
      "source": [
        "a = int(input())\n",
        "b = int(input())\n",
        "x = num(a,b)\n",
        "print(x)"
      ],
      "execution_count": null,
      "outputs": []
    },
    {
      "cell_type": "markdown",
      "metadata": {
        "id": "R8wokNle9O2n"
      },
      "source": [
        "# **แบบฝึกหัด**\n",
        "\n",
        "จงเขียนโปรแกรมที่ประกอบด้วยคำสั่งดังต่อไปนี้\n",
        "- การประกาศตัวแปร\n",
        "- การเปรียบเทียบข้อมูล\n",
        "- การทำซ้ำหรือวนลูป\n",
        "- ฟังก์ชัน\n"
      ]
    },
    {
      "cell_type": "code",
      "metadata": {
        "colab": {
          "base_uri": "https://localhost:8080/"
        },
        "id": "7oeYSA3T-ezS",
        "outputId": "42a7c8a0-024b-4d0f-e91d-759908fee315"
      },
      "source": [
        "# ตัวอย่างเช่น\n",
        "def fLess(myNumber):\n",
        "  for i in range(myNumber):\n",
        "    print('I love you')\n",
        "\n",
        "def fMore(myNumber):\n",
        "  for i in range(myNumber):\n",
        "    print('I love you more')\n",
        "\n",
        "myNumber = 0\n",
        "myNumber = int(input())\n",
        "\n",
        "if myNumber > 5:\n",
        "  fMore(myNumber)\n",
        "else:\n",
        "  fLess(myNumber)\n"
      ],
      "execution_count": null,
      "outputs": [
        {
          "output_type": "stream",
          "text": [
            "0\n"
          ],
          "name": "stdout"
        }
      ]
    }
  ]
}