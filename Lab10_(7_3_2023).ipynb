{
  "nbformat": 4,
  "nbformat_minor": 0,
  "metadata": {
    "colab": {
      "provenance": [],
      "mount_file_id": "1P2RF7vdfF8eE7YNdFF7jlMwNPNzJo1VS",
      "authorship_tag": "ABX9TyOzVOBCnb/+sIVqEt/HzjVY",
      "include_colab_link": true
    },
    "kernelspec": {
      "name": "python3",
      "display_name": "Python 3"
    },
    "language_info": {
      "name": "python"
    },
    "accelerator": "GPU",
    "gpuClass": "standard"
  },
  "cells": [
    {
      "cell_type": "markdown",
      "metadata": {
        "id": "view-in-github",
        "colab_type": "text"
      },
      "source": [
        "<a href=\"https://colab.research.google.com/github/Kawin101/935442-ImageProcessing/blob/main/Lab10_(7_3_2023).ipynb\" target=\"_parent\"><img src=\"https://colab.research.google.com/assets/colab-badge.svg\" alt=\"Open In Colab\"/></a>"
      ]
    },
    {
      "cell_type": "markdown",
      "source": [
        "# 5.2 Image recognition_AI"
      ],
      "metadata": {
        "id": "u1NRj75F4lvk"
      }
    },
    {
      "cell_type": "code",
      "source": [
        "# Do you know VGG16?\n",
        "# https://www.mygreatlearning.com/blog/introduction-to-vgg16/\n",
        "# https://www.geeksforgeeks.org/vgg-16-cnn-model/\n",
        "# https://viso.ai/deep-learning/vgg-very-deep-convolutional-networks/\n",
        "# https://datagen.tech/guides/computer-vision/vgg16/"
      ],
      "metadata": {
        "id": "Kr8LS9wh6cGb"
      },
      "execution_count": null,
      "outputs": []
    },
    {
      "cell_type": "code",
      "execution_count": null,
      "metadata": {
        "id": "Sf9Ufh-c4S5S"
      },
      "outputs": [],
      "source": [
        "# Imagenet 1000 Class List\n",
        "# https://deeplearning.cms.waikato.ac.nz/user-guide/class-maps/IMAGENET/\n",
        "from tensorflow.keras.applications import VGG16\n",
        "from tensorflow.keras.applications import imagenet_utils\n",
        "from tensorflow.keras.preprocessing.image import img_to_array\n",
        "from tensorflow.keras.preprocessing.image import load_img\n",
        "import numpy as np\n",
        "import argparse\n",
        "import cv2\n",
        "\n",
        "inputShape=(224,224)\n",
        "preprocess = imagenet_utils.preprocess_input\n",
        "image = load_img('/content/drive/MyDrive/3-2Y2023_Second/935442_Image-Processing/VGG16/BlueBerry/01.jpg', target_size=inputShape)\n",
        "img = load_img('/content/drive/MyDrive/3-2Y2023_Second/935442_Image-Processing/VGG16/BlueBerry/01.jpg', target_size=inputShape)\n",
        "image = img_to_array(image)\n",
        "image = np.expand_dims(image, axis=0)\n",
        "image = preprocess(image)\n",
        "model = VGG16(weights=\"imagenet\")\n",
        "predict = model.predict(image)\n",
        "P = imagenet_utils.decode_predictions(predict)\n",
        "display(img)\n",
        "for (i,(imagenetID,label,prob)) in enumerate(P[0]):\n",
        "  print(\"{}.{}:{:.2f}%\".format(i+1,label,prob*100))"
      ]
    },
    {
      "cell_type": "markdown",
      "source": [
        "# 5.3 Image recognition_Custom Object"
      ],
      "metadata": {
        "id": "GrSs8902SkrW"
      }
    },
    {
      "cell_type": "code",
      "source": [
        "# 20 Image with different 2 Type\n",
        "# https://teachablemachine.withgoogle.com/\n",
        "\n",
        "from tensorflow.keras.applications import VGG16\n",
        "from tensorflow.keras.models import Model\n",
        "from tensorflow.keras.layers import Dense\n",
        "from tensorflow.keras.layers import Flatten\n",
        "from tensorflow.keras.optimizers import SGD\n",
        "from tensorflow.keras.preprocessing.image import ImageDataGenerator\n",
        "\n",
        "model = VGG16(include_top=False, input_shape=(224,224,3))\n",
        "for layer in model.layers:\n",
        "  layer.trainable = False\n",
        "\n",
        "flat1 = Flatten()(model.layers[-1].output)\n",
        "class1 = Dense(128, activation='relu', kernel_initializer='he_uniform')(flat1)\n",
        "output = Dense(1, activation='sigmoid')(class1)\n",
        "model = Model(inputs=model.inputs, outputs=output)\n",
        "opt = SGD(lr=0.001, momentum=0.9)\n",
        "model.compile(optimizer=opt, loss='binary_crossentropy', metrics=['accuracy'])\n",
        "\n",
        "datagen = ImageDataGenerator(featurewise_center=True)\n",
        "datagen.mean=[123.68, 116.779, 103.939]\n",
        "train_it = datagen.flow_from_directory('/content/drive/MyDrive/3-2Y2023_Second/935442_Image-Processing/training/', \n",
        "                                       class_mode='binary',batch_size=16,target_size=(224,224))\n",
        "\n",
        "model.fit(train_it,steps_per_epoch=len(train_it),epochs=100,verbose=0)"
      ],
      "metadata": {
        "id": "UtBgMMtsEqxI"
      },
      "execution_count": null,
      "outputs": []
    },
    {
      "cell_type": "code",
      "source": [
        "from tensorflow.keras.preprocessing.image import load_img\n",
        "from tensorflow.keras.preprocessing.image import img_to_array\n",
        "\n",
        "testImg = load_img('/content/drive/MyDrive/3-2Y2023_Second/935442_Image-Processing/test/avotest01.jpg',target_size=(224,224))\n",
        "img = img_to_array(testImg)\n",
        "img = img.reshape(1,224,224,3)\n",
        "img = img.astype('float32')\n",
        "img = img- [123.68, 116.779, 103.939]\n",
        "result = model.predict(img)\n",
        "print(result)"
      ],
      "metadata": {
        "id": "Jipp2vbjWl3b"
      },
      "execution_count": null,
      "outputs": []
    }
  ]
}